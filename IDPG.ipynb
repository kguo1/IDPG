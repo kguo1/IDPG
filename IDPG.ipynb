{
  "nbformat": 4,
  "nbformat_minor": 0,
  "metadata": {
    "colab": {
      "provenance": [],
      "toc_visible": true,
      "include_colab_link": true
    },
    "kernelspec": {
      "name": "python3",
      "display_name": "Python 3"
    },
    "language_info": {
      "name": "python"
    }
  },
  "cells": [
    {
      "cell_type": "markdown",
      "metadata": {
        "id": "view-in-github",
        "colab_type": "text"
      },
      "source": [
        "<a href=\"https://colab.research.google.com/github/kguo1/IDPG/blob/main/IDPG.ipynb\" target=\"_parent\"><img src=\"https://colab.research.google.com/assets/colab-badge.svg\" alt=\"Open In Colab\"/></a>"
      ]
    },
    {
      "cell_type": "code",
      "execution_count": 1,
      "metadata": {
        "colab": {
          "base_uri": "https://localhost:8080/"
        },
        "id": "vpYu9jvJBS0n",
        "outputId": "67a76e49-d270-410e-f62b-974a80ba7300"
      },
      "outputs": [
        {
          "output_type": "stream",
          "name": "stdout",
          "text": [
            "Cloning into 'IDPG'...\n",
            "remote: Enumerating objects: 2892, done.\u001b[K\n",
            "remote: Counting objects: 100% (22/22), done.\u001b[K\n",
            "remote: Compressing objects: 100% (20/20), done.\u001b[K\n",
            "remote: Total 2892 (delta 10), reused 4 (delta 1), pack-reused 2870 (from 1)\u001b[K\n",
            "Receiving objects: 100% (2892/2892), 69.86 MiB | 10.35 MiB/s, done.\n",
            "Resolving deltas: 100% (934/934), done.\n",
            "Updating files: 100% (2716/2716), done.\n"
          ]
        }
      ],
      "source": [
        "!git clone https://github.com/kguo1/IDPG.git"
      ]
    },
    {
      "cell_type": "code",
      "source": [],
      "metadata": {
        "id": "W0ZJejDkBmeZ"
      },
      "execution_count": null,
      "outputs": []
    }
  ]
}