{
  "nbformat": 4,
  "nbformat_minor": 0,
  "metadata": {
    "colab": {
      "provenance": [],
      "toc_visible": true,
      "authorship_tag": "ABX9TyPuP4xJmFzMG9ggF0y+dzXv",
      "include_colab_link": true
    },
    "kernelspec": {
      "name": "python3",
      "display_name": "Python 3"
    },
    "language_info": {
      "name": "python"
    }
  },
  "cells": [
    {
      "cell_type": "markdown",
      "metadata": {
        "id": "view-in-github",
        "colab_type": "text"
      },
      "source": [
        "<a href=\"https://colab.research.google.com/github/kguo1/IDPG/blob/main/IDPG.ipynb\" target=\"_parent\"><img src=\"https://colab.research.google.com/assets/colab-badge.svg\" alt=\"Open In Colab\"/></a>"
      ]
    },
    {
      "cell_type": "code",
      "execution_count": null,
      "metadata": {
        "colab": {
          "base_uri": "https://localhost:8080/"
        },
        "id": "vpYu9jvJBS0n",
        "outputId": "3081dcef-dfb8-4b2a-e89f-5d410fe9999e"
      },
      "outputs": [
        {
          "output_type": "stream",
          "name": "stdout",
          "text": [
            "Cloning into 'CSerxyIDPG'...\n",
            "git: 'remote-hhtps' is not a git command. See 'git --help'.\n",
            "\n",
            "The most similar command is\n",
            "\tremote-https\n"
          ]
        }
      ],
      "source": [
        "!git clone hhtps://github.com/CSerxyIDPG.git"
      ]
    },
    {
      "cell_type": "code",
      "source": [],
      "metadata": {
        "id": "W0ZJejDkBmeZ"
      },
      "execution_count": null,
      "outputs": []
    }
  ]
}